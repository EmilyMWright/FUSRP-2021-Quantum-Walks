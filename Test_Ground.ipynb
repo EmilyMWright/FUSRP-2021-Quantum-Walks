{
 "cells": [
  {
   "cell_type": "code",
   "execution_count": 1,
   "metadata": {},
   "outputs": [],
   "source": [
    "import numpy as np\n",
    "from numpy import linalg\n",
    "\n",
    "################################################################################\n",
    "# Function: idempotents                                                        #\n",
    "#                                                                              #\n",
    "# Purpose: find principal idempotents of a Hermitian matrix                    #\n",
    "#                                                                              #\n",
    "# Arguments:                                                                   #\n",
    "#   A        Hermitian sage or numpy matrix     adjacency matrix/Hamiltonian   #\n",
    "#                                                                              #\n",
    "# Returns: principal idempotents, eigenvalues                                  #\n",
    "#                                                                              #\n",
    "################################################################################\n",
    "\n",
    "def idempotents(A):\n",
    "    if not matrix(A).is_hermitian():\n",
    "        print(\"A is not Hermitian\")\n",
    "        return []\n",
    "    # Extracts eigenvalues and eigenvectors\n",
    "    W,V = linalg.eigh(A)\n",
    "    # Converts eigenvectors into orthonormal basis\n",
    "    Q, R = linalg.qr(V) \n",
    "    Q = matrix(Q)\n",
    "    # Number of eigenvectors\n",
    "    A = np.matrix(A)\n",
    "    n = len(A)\n",
    "    idems = []\n",
    "    evals = []\n",
    "    i = 0\n",
    "    j = 0\n",
    "    while i < n:\n",
    "        # Zero matrix\n",
    "        E = matrix(n, n, 0)\n",
    "        # Checks if eigenvectors share an eigenvalue\n",
    "        while j < n and abs(W[i] - W[j]) < 0.01:\n",
    "            # Converts eigenvector into column vecror\n",
    "            v = Q.column(j).column()\n",
    "            # updates idempotent\n",
    "            E = E + v*v.conjugate_transpose();\n",
    "            j = j + 1\n",
    "        E = E\n",
    "        idems.append(E)\n",
    "        evals.append(W[i].round(3))\n",
    "        i = j\n",
    "    return idems, evals"
   ]
  },
  {
   "cell_type": "code",
   "execution_count": 2,
   "metadata": {},
   "outputs": [],
   "source": [
    "################################################################################\n",
    "# Function: transfer                                                           #\n",
    "#                                                                              #\n",
    "# Purpose: return transfer matrix U(t) given adjacency matrix/Hamiltonian      #\n",
    "#                                                                              #\n",
    "# Arguments:                                                                   #\n",
    "#   A        Hermitian sage or numpy matrix     adjacency matrix/Hamiltonian   #\n",
    "#   t        float                              time                           #\n",
    "#   k        integer                            rounding accuracy              #\n",
    "#                                                                              #\n",
    "# Returns: transfer U(t)                                                       #\n",
    "#                                                                              #\n",
    "################################################################################\n",
    "\n",
    "def transfer(A, t):\n",
    "    A = matrix(A)\n",
    "    return matrix(exp(-1*I*t*A))"
   ]
  },
  {
   "cell_type": "code",
   "execution_count": 3,
   "metadata": {},
   "outputs": [],
   "source": [
    "################################################################################\n",
    "# Function: transfer_at_time_r                                                 #\n",
    "#                                                                              #\n",
    "# Purpose: find real part of transfer matrix at specific time and index        #\n",
    "#                                                                              #\n",
    "# Arguments:                                                                   #\n",
    "#   A        Hermitian sage or numpy matrix     adjacency matrix/Hamiltonian   #\n",
    "#   i        integer                            row number                     #\n",
    "#   j        integer                            column number                  #\n",
    "#                                                                              #\n",
    "# Returns: real part of U(t) at index [i][j]                                   #\n",
    "#                                                                              #\n",
    "################################################################################\n",
    "\n",
    "def transfer_at_time_r(A,t,i,j):\n",
    "    U = transfer(A,t)\n",
    "    if abs(U[i][j].real()) < 0.00001:\n",
    "        return 0\n",
    "    return U[i][j].real()\n",
    "\n",
    "################################################################################\n",
    "# Function: transfer_at_time_i                                                 #\n",
    "#                                                                              #\n",
    "# Purpose: find imaginary part of transfer matrix at specific time and index   #\n",
    "#                                                                              #\n",
    "# Arguments:                                                                   #\n",
    "#   A        Hermitian sage or numpy matrix     adjacency matrix/Hamiltonian   #\n",
    "#   i        integer                            row number                     #\n",
    "#   j        integer                            column number                  #\n",
    "#                                                                              #\n",
    "# Returns: imaginary part of U(t) at index [i][j]                              #\n",
    "#                                                                              #\n",
    "################################################################################\n",
    "\n",
    "def transfer_at_time_i(A,t,i,j):\n",
    "    U = transfer(A,t)\n",
    "    if abs(U[i][j].imag()) < 0.00001:\n",
    "        return 0\n",
    "    return U[i][j].imag()\n",
    "\n",
    "################################################################################\n",
    "# Function: transfer_at_time_a                                                 #\n",
    "#                                                                              #\n",
    "# Purpose: find absolute value of transfer matrix at specific time and index   #\n",
    "#                                                                              #\n",
    "# Arguments:                                                                   #\n",
    "#   A        Hermitian sage or numpy matrix     adjacency matrix/Hamiltonian   #\n",
    "#   i        integer                            row number                     #\n",
    "#   j        integer                            column number                  #\n",
    "#                                                                              #\n",
    "# Returns: absolute value of U(t) at index [i][j]                              #\n",
    "#                                                                              #\n",
    "################################################################################\n",
    "\n",
    "def transfer_at_time_a(A,t,i,j):\n",
    "    U = transfer(A,t)\n",
    "    if U[i][j].abs() < 0.00001:\n",
    "        return 0\n",
    "    return U[i][j].abs()"
   ]
  },
  {
   "cell_type": "code",
   "execution_count": 4,
   "metadata": {},
   "outputs": [
    {
     "data": {
      "text/plain": [
       "[   0.0  1.0*I -1.0*I  1.0*I    0.0    0.0 -1.0*I    0.0    0.0]\n",
       "[-1.0*I    0.0  1.0*I    0.0  1.0*I    0.0    0.0 -1.0*I    0.0]\n",
       "[ 1.0*I -1.0*I    0.0    0.0    0.0  1.0*I    0.0    0.0 -1.0*I]\n",
       "[-1.0*I    0.0    0.0    0.0  1.0*I -1.0*I  1.0*I    0.0    0.0]\n",
       "[   0.0 -1.0*I    0.0 -1.0*I    0.0  1.0*I    0.0  1.0*I    0.0]\n",
       "[   0.0    0.0 -1.0*I  1.0*I -1.0*I    0.0    0.0    0.0  1.0*I]\n",
       "[ 1.0*I    0.0    0.0 -1.0*I    0.0    0.0    0.0  1.0*I -1.0*I]\n",
       "[   0.0  1.0*I    0.0    0.0 -1.0*I    0.0 -1.0*I    0.0  1.0*I]\n",
       "[   0.0    0.0  1.0*I    0.0    0.0 -1.0*I  1.0*I -1.0*I    0.0]"
      ]
     },
     "execution_count": 4,
     "metadata": {},
     "output_type": "execute_result"
    }
   ],
   "source": [
    "K = np.matrix([[0,1j,-1j,1j,0,0,-1j,0,0],[-1j,0,1j,0,1j,0,0,-1j,0],[1j,-1j,0,0,0,1j,0,0,-1j],\\\n",
    "               [-1j,0,0,0,1j,-1j,1j,0,0],[0,-1j,0,-1j,0,1j,0,1j,0],[0,0,-1j,1j,-1j,0,0,0,1j],\\\n",
    "               [1j,0,0,-1j,0,0,0,1j,-1j],[0,1j,0,0,-1j,0,-1j,0,1j],[0,0,1j,0,0,-1j,1j,-1j,0]]); matrix(K)"
   ]
  },
  {
   "cell_type": "code",
   "execution_count": null,
   "metadata": {},
   "outputs": [],
   "source": [
    "transfer(K,2*np.pi/sqrt(27))[0][4]\n",
    "# 1 - 1.11022302 × 10-16 i"
   ]
  },
  {
   "cell_type": "code",
   "execution_count": null,
   "metadata": {},
   "outputs": [],
   "source": [
    "EK, lK = idempotents(K)\n",
    "for i in range(len(lK)):\n",
    "    print(\"Idempotent for\", lK[i])\n",
    "    print(EK[i].round(3))"
   ]
  },
  {
   "cell_type": "code",
   "execution_count": null,
   "metadata": {},
   "outputs": [],
   "source": [
    "W,V = linalg.eigh(K); W"
   ]
  },
  {
   "cell_type": "code",
   "execution_count": null,
   "metadata": {},
   "outputs": [],
   "source": [
    "# Plots absolute value of U(t) for matrix K from time 0 to 3pi\n",
    "PH00 = plot(transfer_at_time_a(K,x,0,0),0,3*np.pi)\n",
    "PH10 = plot(transfer_at_time_a(K,x,1,0),0,3*np.pi)\n",
    "PH20 = plot(transfer_at_time_a(K,x,2,0),0,3*np.pi)\n",
    "PH30 = plot(transfer_at_time_a(K,x,3,0),0,3*np.pi)\n",
    "PH40 = plot(transfer_at_time_a(K,x,4,0),0,3*np.pi)\n",
    "PH50 = plot(transfer_at_time_a(K,x,5,0),0,3*np.pi)\n",
    "PH60 = plot(transfer_at_time_a(K,x,6,0),0,3*np.pi)\n",
    "PH70 = plot(transfer_at_time_a(K,x,7,0),0,3*np.pi)\n",
    "PH80 = plot(transfer_at_time_a(K,x,8,0),0,3*np.pi)\n",
    "\n",
    "PH01 = plot(transfer_at_time_a(K,x,0,1),0,3*np.pi)\n",
    "PH11 = plot(transfer_at_time_a(K,x,1,1),0,3*np.pi)\n",
    "PH21 = plot(transfer_at_time_a(K,x,2,1),0,3*np.pi)\n",
    "PH31 = plot(transfer_at_time_a(K,x,3,1),0,3*np.pi)\n",
    "PH41 = plot(transfer_at_time_a(K,x,4,1),0,3*np.pi)\n",
    "PH51 = plot(transfer_at_time_a(K,x,5,1),0,3*np.pi)\n",
    "PH61 = plot(transfer_at_time_a(K,x,6,1),0,3*np.pi)\n",
    "PH71 = plot(transfer_at_time_a(K,x,7,1),0,3*np.pi)\n",
    "PH81 = plot(transfer_at_time_a(K,x,8,1),0,3*np.pi)\n",
    "\n",
    "PH02 = plot(transfer_at_time_a(K,x,0,2),0,3*np.pi)\n",
    "PH12 = plot(transfer_at_time_a(K,x,1,2),0,3*np.pi)\n",
    "PH22 = plot(transfer_at_time_a(K,x,2,2),0,3*np.pi)\n",
    "PH32 = plot(transfer_at_time_a(K,x,3,2),0,3*np.pi)\n",
    "PH42 = plot(transfer_at_time_a(K,x,4,2),0,3*np.pi)\n",
    "PH52 = plot(transfer_at_time_a(K,x,5,2),0,3*np.pi)\n",
    "PH62 = plot(transfer_at_time_a(K,x,6,2),0,3*np.pi)\n",
    "PH72 = plot(transfer_at_time_a(K,x,7,2),0,3*np.pi)\n",
    "PH82 = plot(transfer_at_time_a(K,x,8,2),0,3*np.pi)\n",
    "\n",
    "PH03 = plot(transfer_at_time_a(K,x,0,3),0,3*np.pi)\n",
    "PH13 = plot(transfer_at_time_a(K,x,1,3),0,3*np.pi)\n",
    "PH23 = plot(transfer_at_time_a(K,x,2,3),0,3*np.pi)\n",
    "PH33 = plot(transfer_at_time_a(K,x,3,3),0,3*np.pi)\n",
    "PH43 = plot(transfer_at_time_a(K,x,4,3),0,3*np.pi)\n",
    "PH53 = plot(transfer_at_time_a(K,x,5,3),0,3*np.pi)\n",
    "PH63 = plot(transfer_at_time_a(K,x,6,3),0,3*np.pi)\n",
    "PH73 = plot(transfer_at_time_a(K,x,7,3),0,3*np.pi)\n",
    "PH83 = plot(transfer_at_time_a(K,x,8,3),0,3*np.pi)\n",
    "\n",
    "PH04 = plot(transfer_at_time_a(K,x,0,4),0,3*np.pi)\n",
    "PH14 = plot(transfer_at_time_a(K,x,1,4),0,3*np.pi)\n",
    "PH24 = plot(transfer_at_time_a(K,x,2,4),0,3*np.pi)\n",
    "PH34 = plot(transfer_at_time_a(K,x,3,4),0,3*np.pi)\n",
    "PH44 = plot(transfer_at_time_a(K,x,4,4),0,3*np.pi)\n",
    "PH54 = plot(transfer_at_time_a(K,x,5,4),0,3*np.pi)\n",
    "PH64 = plot(transfer_at_time_a(K,x,6,4),0,3*np.pi)\n",
    "PH74 = plot(transfer_at_time_a(K,x,7,4),0,3*np.pi)\n",
    "PH84 = plot(transfer_at_time_a(K,x,8,4),0,3*np.pi)\n",
    "\n",
    "PH05 = plot(transfer_at_time_a(K,x,0,5),0,3*np.pi)\n",
    "PH15 = plot(transfer_at_time_a(K,x,1,5),0,3*np.pi)\n",
    "PH25 = plot(transfer_at_time_a(K,x,2,5),0,3*np.pi)\n",
    "PH35 = plot(transfer_at_time_a(K,x,3,5),0,3*np.pi)\n",
    "PH45 = plot(transfer_at_time_a(K,x,4,5),0,3*np.pi)\n",
    "PH55 = plot(transfer_at_time_a(K,x,5,5),0,3*np.pi)\n",
    "PH65 = plot(transfer_at_time_a(K,x,6,5),0,3*np.pi)\n",
    "PH75 = plot(transfer_at_time_a(K,x,7,5),0,3*np.pi)\n",
    "PH85 = plot(transfer_at_time_a(K,x,8,5),0,3*np.pi)\n",
    "\n",
    "PH06 = plot(transfer_at_time_a(K,x,0,6),0,3*np.pi)\n",
    "PH16 = plot(transfer_at_time_a(K,x,1,6),0,3*np.pi)\n",
    "PH26 = plot(transfer_at_time_a(K,x,2,6),0,3*np.pi)\n",
    "PH36 = plot(transfer_at_time_a(K,x,3,6),0,3*np.pi)\n",
    "PH46 = plot(transfer_at_time_a(K,x,4,6),0,3*np.pi)\n",
    "PH56 = plot(transfer_at_time_a(K,x,5,6),0,3*np.pi)\n",
    "PH66 = plot(transfer_at_time_a(K,x,6,6),0,3*np.pi)\n",
    "PH76 = plot(transfer_at_time_a(K,x,7,6),0,3*np.pi)\n",
    "PH86 = plot(transfer_at_time_a(K,x,8,6),0,3*np.pi)\n",
    "\n",
    "PH07 = plot(transfer_at_time_a(K,x,0,7),0,3*np.pi)\n",
    "PH17 = plot(transfer_at_time_a(K,x,1,7),0,3*np.pi)\n",
    "PH27 = plot(transfer_at_time_a(K,x,2,7),0,3*np.pi)\n",
    "PH37 = plot(transfer_at_time_a(K,x,3,7),0,3*np.pi)\n",
    "PH47 = plot(transfer_at_time_a(K,x,4,7),0,3*np.pi)\n",
    "PH57 = plot(transfer_at_time_a(K,x,5,7),0,3*np.pi)\n",
    "PH67 = plot(transfer_at_time_a(K,x,6,7),0,3*np.pi)\n",
    "PH77 = plot(transfer_at_time_a(K,x,7,7),0,3*np.pi)\n",
    "PH87 = plot(transfer_at_time_a(K,x,8,7),0,3*np.pi)\n",
    "\n",
    "PH08 = plot(transfer_at_time_a(K,x,0,8),0,3*np.pi)\n",
    "PH18 = plot(transfer_at_time_a(K,x,1,8),0,3*np.pi)\n",
    "PH28 = plot(transfer_at_time_a(K,x,2,8),0,3*np.pi)\n",
    "PH38 = plot(transfer_at_time_a(K,x,3,8),0,3*np.pi)\n",
    "PH48 = plot(transfer_at_time_a(K,x,4,8),0,3*np.pi)\n",
    "PH58 = plot(transfer_at_time_a(K,x,5,8),0,3*np.pi)\n",
    "PH68 = plot(transfer_at_time_a(K,x,6,8),0,3*np.pi)\n",
    "PH78 = plot(transfer_at_time_a(K,x,7,8),0,3*np.pi)\n",
    "PH88 = plot(transfer_at_time_a(K,x,8,8),0,3*np.pi)"
   ]
  },
  {
   "cell_type": "code",
   "execution_count": null,
   "metadata": {},
   "outputs": [],
   "source": [
    "# graphics_array(((PH00,PH01,PH02,PH03,PH04,PH05,PH06,PH07,PH08), \\\n",
    "#                 (PH10,PH11,PH12,PH13,PH14,PH15,PH16,PH17,PH18), \\\n",
    "#                 (PH20,PH21,PH22,PH23,PH24,PH25,PH26,PH27,PH28), \\\n",
    "#                 (PH30,PH31,PH32,PH33,PH34,PH35,PH36,PH37,PH38), \\\n",
    "#                 (PH40,PH41,PH42,PH43,PH44,PH45,PH46,PH47,PH48), \\\n",
    "#                 (PH50,PH51,PH52,PH53,PH54,PH55,PH56,PH57,PH58), \\\n",
    "#                 (PH60,PH61,PH62,PH63,PH64,PH65,PH66,PH67,PH68), \\\n",
    "#                 (PH70,PH71,PH72,PH73,PH74,PH75,PH76,PH77,PH78), \\\n",
    "#                 (PH80,PH81,PH82,PH83,PH84,PH85,PH86,PH87,PH88)))"
   ]
  },
  {
   "cell_type": "code",
   "execution_count": null,
   "metadata": {},
   "outputs": [],
   "source": [
    "graphics_array(((PH00,PH01,PH02),(PH10,PH11,PH12),(PH20,PH21,PH22)))"
   ]
  },
  {
   "cell_type": "code",
   "execution_count": null,
   "metadata": {},
   "outputs": [],
   "source": [
    "PH00"
   ]
  },
  {
   "cell_type": "code",
   "execution_count": null,
   "metadata": {},
   "outputs": [],
   "source": [
    "K3 = np.matrix([[0,1j,-1j],[-1j,0,1j],[1j,-1j,0]]); matrix(K3)"
   ]
  },
  {
   "cell_type": "code",
   "execution_count": null,
   "metadata": {},
   "outputs": [],
   "source": [
    "# Plots absolute value of U(t) for matrix H from time 0 to 3pi\n",
    "PK300 = plot(transfer_at_time_a(K3,x,0,0),0,3*np.pi)\n",
    "PK310 = plot(transfer_at_time_a(K3,x,1,0),0,3*np.pi)\n",
    "PK320 = plot(transfer_at_time_a(K3,x,2,0),0,3*np.pi)\n",
    "PK301 = plot(transfer_at_time_a(K3,x,0,1),0,3*np.pi)\n",
    "PK311 = plot(transfer_at_time_a(K3,x,1,1),0,3*np.pi)\n",
    "PK321 = plot(transfer_at_time_a(K3,x,2,1),0,3*np.pi)\n",
    "PK302 = plot(transfer_at_time_a(K3,x,0,2),0,3*np.pi)\n",
    "PK312 = plot(transfer_at_time_a(K3,x,1,2),0,3*np.pi)\n",
    "PK322 = plot(transfer_at_time_a(K3,x,2,2),0,3*np.pi)"
   ]
  },
  {
   "cell_type": "code",
   "execution_count": null,
   "metadata": {},
   "outputs": [],
   "source": [
    "PK300"
   ]
  },
  {
   "cell_type": "code",
   "execution_count": null,
   "metadata": {},
   "outputs": [],
   "source": [
    "graphics_array(((PK300,PK301,PK302), (PK310,PK311,PK312), (PK320,PK321,PK322)))"
   ]
  },
  {
   "cell_type": "code",
   "execution_count": null,
   "metadata": {},
   "outputs": [],
   "source": [
    "def H_theta(theta):\n",
    "    return np.matrix([[0,1,1],[1,0,exp(-1j*theta)],[1,exp(1j*theta),0]])"
   ]
  },
  {
   "cell_type": "code",
   "execution_count": null,
   "metadata": {},
   "outputs": [],
   "source": [
    "# Idempotents for H_theta\n",
    "H = H_theta(np.pi/2)\n",
    "EH, lH = idempotents(H);\n",
    "for i in range(len(lH)):\n",
    "    print(\"Idempotent for\", int(lH[i]))\n",
    "    print(EH[i].round(3))"
   ]
  },
  {
   "cell_type": "code",
   "execution_count": null,
   "metadata": {},
   "outputs": [],
   "source": [
    "# Plots absolute value of U(t) for matrix H from time 0 to 3pi\n",
    "PaH00 = plot(transfer_at_time_a(H,x,0,0),0,3*np.pi)\n",
    "PaH10 = plot(transfer_at_time_a(H,x,1,0),0,3*np.pi)\n",
    "PaH20 = plot(transfer_at_time_a(H,x,2,0),0,3*np.pi)\n",
    "PaH01 = plot(transfer_at_time_a(H,x,0,1),0,3*np.pi)\n",
    "PaH11 = plot(transfer_at_time_a(H,x,1,1),0,3*np.pi)\n",
    "PaH21 = plot(transfer_at_time_a(H,x,2,1),0,3*np.pi)\n",
    "PaH02 = plot(transfer_at_time_a(H,x,0,2),0,3*np.pi)\n",
    "PaH12 = plot(transfer_at_time_a(H,x,1,2),0,3*np.pi)\n",
    "PaH22 = plot(transfer_at_time_a(H,x,2,2),0,3*np.pi)"
   ]
  },
  {
   "cell_type": "code",
   "execution_count": null,
   "metadata": {},
   "outputs": [],
   "source": [
    "graphics_array(((PaH00,PaH01,PaH02), (PaH10,PaH11,PaH12), (PaH20,PaH21,PaH22)))"
   ]
  },
  {
   "cell_type": "code",
   "execution_count": null,
   "metadata": {},
   "outputs": [],
   "source": [
    "# Plots real part of U(t) for matrix H from time 0 to 3pi\n",
    "PrH00 = plot(transfer_at_time_r(H,x,0,0),0,3*np.pi)\n",
    "PrH10 = plot(transfer_at_time_r(H,x,1,0),0,3*np.pi)\n",
    "PrH20 = plot(transfer_at_time_r(H,x,2,0),0,3*np.pi)\n",
    "PrH01 = plot(transfer_at_time_r(H,x,0,1),0,3*np.pi)\n",
    "PrH11 = plot(transfer_at_time_r(H,x,1,1),0,3*np.pi)\n",
    "PrH21 = plot(transfer_at_time_r(H,x,2,1),0,3*np.pi)\n",
    "PrH02 = plot(transfer_at_time_r(H,x,0,2),0,3*np.pi)\n",
    "PrH12 = plot(transfer_at_time_r(H,x,1,2),0,3*np.pi)\n",
    "PrH22 = plot(transfer_at_time_r(H,x,2,2),0,3*np.pi)"
   ]
  },
  {
   "cell_type": "code",
   "execution_count": null,
   "metadata": {},
   "outputs": [],
   "source": [
    "graphics_array(((PrH00,PrH01,PrH02), (PrH10,PrH11,PrH12), (PrH20,PrH21,PrH22)))"
   ]
  },
  {
   "cell_type": "code",
   "execution_count": null,
   "metadata": {},
   "outputs": [],
   "source": [
    "# Plots imaginary part of U(t) for matrix H from time 0 to 3pi\n",
    "PiH00 = plot(transfer_at_time_i(H,x,0,0),0,3*np.pi)\n",
    "PiH10 = plot(transfer_at_time_i(H,x,1,0),0,3*np.pi)\n",
    "PiH20 = plot(transfer_at_time_i(H,x,2,0),0,3*np.pi)\n",
    "PiH01 = plot(transfer_at_time_i(H,x,0,1),0,3*np.pi)\n",
    "PiH11 = plot(transfer_at_time_i(H,x,1,1),0,3*np.pi)\n",
    "PiH21 = plot(transfer_at_time_i(H,x,2,1),0,3*np.pi)\n",
    "PiH02 = plot(transfer_at_time_i(H,x,0,2),0,3*np.pi)\n",
    "PiH12 = plot(transfer_at_time_i(H,x,1,2),0,3*np.pi)\n",
    "PiH22 = plot(transfer_at_time_i(H,x,2,2),0,3*np.pi)"
   ]
  },
  {
   "cell_type": "code",
   "execution_count": null,
   "metadata": {},
   "outputs": [],
   "source": [
    "graphics_array(((PiH00,PiH01,PiH02), (PiH10,PiH11,PiH12), (PiH20,PiH21,PiH22)))"
   ]
  },
  {
   "cell_type": "code",
   "execution_count": null,
   "metadata": {},
   "outputs": [],
   "source": [
    "#comment here#"
   ]
  }
 ],
 "metadata": {
  "kernelspec": {
   "display_name": "SageMath 9.2",
   "language": "sage",
   "name": "sagemath"
  },
  "language_info": {
   "codemirror_mode": {
    "name": "ipython",
    "version": 3
   },
   "file_extension": ".py",
   "mimetype": "text/x-python",
   "name": "python",
   "nbconvert_exporter": "python",
   "pygments_lexer": "ipython3",
   "version": "3.7.7"
  }
 },
 "nbformat": 4,
 "nbformat_minor": 4
}
