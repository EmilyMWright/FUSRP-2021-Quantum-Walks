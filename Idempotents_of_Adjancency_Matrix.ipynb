{
 "cells": [
  {
   "cell_type": "code",
   "execution_count": 1,
   "metadata": {},
   "outputs": [],
   "source": [
    "import numpy as np\n",
    "from numpy import linalg\n",
    "\n",
    "################################################################################\n",
    "# Function: idempotents                                                        #\n",
    "#                                                                              #\n",
    "# Purpose: find principal idempotents of a Hermitian matrix                    #\n",
    "#                                                                              #\n",
    "# Arguments:                                                                   #\n",
    "#   A        Hermitian sage or numpy matrix     adjacency matrix/Hamiltonian   #\n",
    "#                                                                              #\n",
    "# Returns: principal idempotents, eigenvalues                                  #\n",
    "#                                                                              #\n",
    "################################################################################\n",
    "\n",
    "def idempotents(A):\n",
    "    if not matrix(A).is_hermitian():\n",
    "        print(\"A is not Hermitian\")\n",
    "        return []\n",
    "    # Extracts eigenvalues and eigenvectors\n",
    "    W,V = linalg.eigh(A)\n",
    "    # Converts eigenvectors into orthonormal basis\n",
    "    Q, R = linalg.qr(V) \n",
    "    Q = matrix(Q)\n",
    "    # Number of eigenvectors\n",
    "    A = np.matrix(A)\n",
    "    n = len(A)\n",
    "    idems = []\n",
    "    evals = []\n",
    "    i = 0\n",
    "    j = 0\n",
    "    while i < n:\n",
    "        # Zero matrix\n",
    "        E = matrix(n, n, 0)\n",
    "        # Checks if eigenvectors share an eigenvalue\n",
    "        while j < n and abs(W[i] - W[j]) < 0.01:\n",
    "            # Converts eigenvector into column vecror\n",
    "            v = Q.column(j).column()\n",
    "            # updates idempotent\n",
    "            E = E + v*v.conjugate_transpose();\n",
    "            j = j + 1\n",
    "        E = E\n",
    "        idems.append(E)\n",
    "        evals.append(W[i].round(3))\n",
    "        i = j\n",
    "    return idems, evals"
   ]
  },
  {
   "cell_type": "code",
   "execution_count": 40,
   "metadata": {},
   "outputs": [],
   "source": [
    "################################################################################\n",
    "# Function: transfer                                                           #\n",
    "#                                                                              #\n",
    "# Purpose: return transfer matrix U(t) given adjacency matrix/Hamiltonian      #\n",
    "#                                                                              #\n",
    "# Arguments:                                                                   #\n",
    "#   A        Hermitian sage or numpy matrix     adjacency matrix/Hamiltonian   #\n",
    "#   t        float                              time                           #\n",
    "#   k        integer                            rounding accuracy              #\n",
    "#                                                                              #\n",
    "# Returns: transfer U(t)                                                       #\n",
    "#                                                                              #\n",
    "################################################################################\n",
    "\n",
    "def transfer(A, t):\n",
    "    if not matrix(A).is_hermitian():\n",
    "        print(\"A is not Hermitian\")\n",
    "        return []\n",
    "    idems, evals = idempotents(A)\n",
    "    # Number of eigenvectors\n",
    "    A = np.matrix(A)\n",
    "    n = len(A)\n",
    "    U = matrix(n, n, 0)\n",
    "    for i in range(len(idems)):\n",
    "        U = U + exp(I*t*evals[i])*idems[i]\n",
    "    return U      "
   ]
  },
  {
   "cell_type": "code",
   "execution_count": 67,
   "metadata": {},
   "outputs": [
    {
     "data": {
      "text/plain": [
       "([\n",
       "[ 0.16666666666666677 -0.16666666666666666 -0.16666666666666674  0.16666666666666663  0.16666666666666663 -0.16666666666666677]  [  0.3333333333333329  0.33333333333333326  -0.1666666666666664 -0.16666666666666666 -0.16666666666666666  -0.1666666666666665]  [  0.3333333333333335 -0.33333333333333315  0.16666666666666688  -0.1666666666666667 -0.16666666666666657  0.16666666666666682]  [ 0.1666666666666664 0.16666666666666663  0.1666666666666664 0.16666666666666657 0.16666666666666666 0.16666666666666652]\n",
       "[-0.16666666666666666  0.16666666666666652  0.16666666666666663 -0.16666666666666652 -0.16666666666666652  0.16666666666666666]  [ 0.33333333333333326   0.3333333333333336 -0.16666666666666652  -0.1666666666666668 -0.16666666666666685 -0.16666666666666669]  [-0.33333333333333315  0.33333333333333287 -0.16666666666666669   0.1666666666666665   0.1666666666666665  -0.1666666666666667]  [0.16666666666666663 0.16666666666666685 0.16666666666666666  0.1666666666666668 0.16666666666666688 0.16666666666666674]\n",
       "[-0.16666666666666674  0.16666666666666663   0.1666666666666667  -0.1666666666666666  -0.1666666666666666  0.16666666666666677]  [ -0.1666666666666664 -0.16666666666666652  0.33333333333333315  0.33333333333333326 -0.16666666666666666 -0.16666666666666669]  [ 0.16666666666666688 -0.16666666666666669   0.3333333333333336 -0.33333333333333337  0.16666666666666674 -0.16666666666666657]  [ 0.1666666666666664 0.16666666666666666 0.16666666666666644  0.1666666666666666 0.16666666666666666 0.16666666666666652]\n",
       "[ 0.16666666666666663 -0.16666666666666652  -0.1666666666666666   0.1666666666666665   0.1666666666666665 -0.16666666666666666]  [-0.16666666666666666  -0.1666666666666668  0.33333333333333326   0.3333333333333334 -0.16666666666666655 -0.16666666666666657]  [ -0.1666666666666667   0.1666666666666665 -0.33333333333333337   0.3333333333333332 -0.16666666666666674  0.16666666666666655]  [0.16666666666666657  0.1666666666666668  0.1666666666666666 0.16666666666666677 0.16666666666666682 0.16666666666666669]\n",
       "[ 0.16666666666666663 -0.16666666666666652  -0.1666666666666666   0.1666666666666665   0.1666666666666665 -0.16666666666666666]  [-0.16666666666666666 -0.16666666666666685 -0.16666666666666666 -0.16666666666666655  0.33333333333333337  0.33333333333333326]  [-0.16666666666666657   0.1666666666666665  0.16666666666666674 -0.16666666666666674  0.33333333333333337  -0.3333333333333334]  [0.16666666666666666 0.16666666666666688 0.16666666666666666 0.16666666666666682  0.1666666666666669 0.16666666666666677]\n",
       "[-0.16666666666666677  0.16666666666666666  0.16666666666666677 -0.16666666666666666 -0.16666666666666666   0.1666666666666668], [ -0.1666666666666665 -0.16666666666666669 -0.16666666666666669 -0.16666666666666657  0.33333333333333326  0.33333333333333315], [ 0.16666666666666682  -0.1666666666666667 -0.16666666666666657  0.16666666666666655  -0.3333333333333334   0.3333333333333335], [0.16666666666666652 0.16666666666666674 0.16666666666666652 0.16666666666666669 0.16666666666666677 0.16666666666666663]\n",
       "],\n",
       " [-2.0, -1.0, 1.0, 2.0])"
      ]
     },
     "execution_count": 67,
     "metadata": {},
     "output_type": "execute_result"
    }
   ],
   "source": [
    "# Example usages\n",
    "AC6 = matrix([[0,0,1,0,0,1],[0,0,0,1,1,0],[1,0,0,0,1,0],[0,1,0,0,0,1],[0,1,1,0,0,0],[1,0,0,1,0,0]])\n",
    "idempotents(AC6)"
   ]
  },
  {
   "cell_type": "code",
   "execution_count": 42,
   "metadata": {},
   "outputs": [
    {
     "data": {
      "text/plain": [
       "[   -0.33333333333333326 + 1.5407439555097887e-31*I -1.1102230246251565e-16 - 1.6328623988631373e-16*I  -8.049116928532385e-16 - 4.0821559971578395e-17*I                                 0.6666666666666665                                 0.6666666666666665  -5.828670879282072e-16 - 4.0821559971578426e-17*I]\n",
       "[-1.1102230246251565e-16 - 1.6328623988631373e-16*I     -0.3333333333333331 - 1.7256332301709633e-31*I       0.6666666666666665 - 2.465190328815662e-32*I    5.828670879282072e-16 - 4.082155997157844e-17*I   7.216449660063518e-16 - 4.0821559971578457e-17*I       0.6666666666666669 - 2.465190328815662e-32*I]\n",
       "[ -8.049116928532385e-16 - 4.0821559971578395e-17*I       0.6666666666666665 - 2.465190328815662e-32*I     -0.3333333333333336 + 1.1709654061874394e-31*I   8.326672684688674e-17 - 1.6328623988631373e-16*I  -2.7755575615628914e-17 - 4.082155997157842e-17*I       0.6666666666666665 + 7.395570986446986e-32*I]\n",
       "[                                0.6666666666666665    5.828670879282072e-16 - 4.082155997157844e-17*I   8.326672684688674e-17 - 1.6328623988631373e-16*I     -0.33333333333333337 - 9.244463733058732e-32*I      0.6666666666666666 - 1.1093356479670479e-31*I    5.551115123125783e-17 - 4.082155997157847e-17*I]\n",
       "[                                0.6666666666666665   7.216449660063518e-16 - 4.0821559971578457e-17*I  -2.7755575615628914e-17 - 4.082155997157842e-17*I      0.6666666666666666 - 1.1093356479670479e-31*I     -0.3333333333333333 - 1.0477058897466563e-31*I  3.0531133177191805e-16 - 1.6328623988631378e-16*I]\n",
       "[ -5.828670879282072e-16 - 4.0821559971578426e-17*I       0.6666666666666669 - 2.465190328815662e-32*I       0.6666666666666665 + 7.395570986446986e-32*I    5.551115123125783e-17 - 4.082155997157847e-17*I  3.0531133177191805e-16 - 1.6328623988631378e-16*I      -0.3333333333333332 + 7.395570986446986e-32*I]"
      ]
     },
     "execution_count": 42,
     "metadata": {},
     "output_type": "execute_result"
    }
   ],
   "source": [
    "transfer(AC6,np.pi)"
   ]
  },
  {
   "cell_type": "code",
   "execution_count": 43,
   "metadata": {},
   "outputs": [],
   "source": [
    "AC5 = matrix([[0,1,0,0,1],[1,0,1,0,0],[0,1,0,1,0],[0,0,1,0,1],[1,0,0,1,0]]);"
   ]
  },
  {
   "cell_type": "code",
   "execution_count": 44,
   "metadata": {},
   "outputs": [
    {
     "data": {
      "text/plain": [
       "[   -0.33333333333333326 + 1.5407439555097887e-31*I -1.1102230246251565e-16 - 1.6328623988631373e-16*I  -8.049116928532385e-16 - 4.0821559971578395e-17*I                                 0.6666666666666665                                 0.6666666666666665  -5.828670879282072e-16 - 4.0821559971578426e-17*I]\n",
       "[-1.1102230246251565e-16 - 1.6328623988631373e-16*I     -0.3333333333333331 - 1.7256332301709633e-31*I       0.6666666666666665 - 2.465190328815662e-32*I    5.828670879282072e-16 - 4.082155997157844e-17*I   7.216449660063518e-16 - 4.0821559971578457e-17*I       0.6666666666666669 - 2.465190328815662e-32*I]\n",
       "[ -8.049116928532385e-16 - 4.0821559971578395e-17*I       0.6666666666666665 - 2.465190328815662e-32*I     -0.3333333333333336 + 1.1709654061874394e-31*I   8.326672684688674e-17 - 1.6328623988631373e-16*I  -2.7755575615628914e-17 - 4.082155997157842e-17*I       0.6666666666666665 + 7.395570986446986e-32*I]\n",
       "[                                0.6666666666666665    5.828670879282072e-16 - 4.082155997157844e-17*I   8.326672684688674e-17 - 1.6328623988631373e-16*I     -0.33333333333333337 - 9.244463733058732e-32*I      0.6666666666666666 - 1.1093356479670479e-31*I    5.551115123125783e-17 - 4.082155997157847e-17*I]\n",
       "[                                0.6666666666666665   7.216449660063518e-16 - 4.0821559971578457e-17*I  -2.7755575615628914e-17 - 4.082155997157842e-17*I      0.6666666666666666 - 1.1093356479670479e-31*I     -0.3333333333333333 - 1.0477058897466563e-31*I  3.0531133177191805e-16 - 1.6328623988631378e-16*I]\n",
       "[ -5.828670879282072e-16 - 4.0821559971578426e-17*I       0.6666666666666669 - 2.465190328815662e-32*I       0.6666666666666665 + 7.395570986446986e-32*I    5.551115123125783e-17 - 4.082155997157847e-17*I  3.0531133177191805e-16 - 1.6328623988631378e-16*I      -0.3333333333333332 + 7.395570986446986e-32*I]"
      ]
     },
     "execution_count": 44,
     "metadata": {},
     "output_type": "execute_result"
    }
   ],
   "source": [
    "transfer(AC6,np.pi)"
   ]
  },
  {
   "cell_type": "code",
   "execution_count": 45,
   "metadata": {},
   "outputs": [
    {
     "data": {
      "text/plain": [
       "[0 0 1 1]\n",
       "[0 0 1 1]\n",
       "[1 1 0 0]\n",
       "[1 1 0 0]"
      ]
     },
     "execution_count": 45,
     "metadata": {},
     "output_type": "execute_result"
    }
   ],
   "source": [
    "AC4 = matrix([[0, 0, 1, 1],[0, 0, 1, 1],[1, 1, 0, 0],[1, 1, 0, 0]]); AC4"
   ]
  },
  {
   "cell_type": "code",
   "execution_count": 46,
   "metadata": {},
   "outputs": [
    {
     "data": {
      "text/plain": [
       "([\n",
       "[                0.25  0.25000000000000006                -0.25 -0.24999999999999994]  [     0.4999999999999999     -0.4999999999999999  -9.813077866773593e-18  -9.813077866773587e-18]  [ 0.2499999999999999  0.2499999999999999                0.25 0.24999999999999994]\n",
       "[ 0.25000000000000006   0.2500000000000001 -0.25000000000000006                -0.25]  [    -0.4999999999999999      0.4999999999999999  4.6820512020945476e-17 -2.7194356287398302e-17]  [ 0.2499999999999999  0.2499999999999999                0.25 0.24999999999999994]\n",
       "[               -0.25 -0.25000000000000006                 0.25  0.24999999999999994]  [ -9.813077866773593e-18  4.6820512020945476e-17      0.4999999999999999                    -0.5]  [               0.25                0.25  0.2500000000000001 0.25000000000000006]\n",
       "[-0.24999999999999994                -0.25  0.24999999999999994   0.2499999999999999], [ -9.813077866773587e-18 -2.7194356287398302e-17                    -0.5      0.5000000000000001], [0.24999999999999994 0.24999999999999994 0.25000000000000006                0.25]\n",
       "],\n",
       " [-2.0, -0.0, 2.0])"
      ]
     },
     "execution_count": 46,
     "metadata": {},
     "output_type": "execute_result"
    }
   ],
   "source": [
    "idempotents(AC4)"
   ]
  },
  {
   "cell_type": "code",
   "execution_count": 47,
   "metadata": {},
   "outputs": [],
   "source": [
    "H = np.matrix([[0,1j],[-1j,0]])"
   ]
  },
  {
   "cell_type": "code",
   "execution_count": 48,
   "metadata": {},
   "outputs": [
    {
     "data": {
      "text/plain": [
       "[\n",
       "[   0.5 -0.5*I]  [   0.5  0.5*I]\n",
       "[ 0.5*I    0.5], [-0.5*I    0.5]\n",
       "]"
      ]
     },
     "execution_count": 48,
     "metadata": {},
     "output_type": "execute_result"
    }
   ],
   "source": [
    "res1, res2 = idempotents(H); [res.round(5) for res in res1]"
   ]
  },
  {
   "cell_type": "code",
   "execution_count": 49,
   "metadata": {},
   "outputs": [],
   "source": [
    "################################################################################\n",
    "# Function: transfer_at_time_r                                                 #\n",
    "#                                                                              #\n",
    "# Purpose: find real part of transfer matrix at specific time and index        #\n",
    "#                                                                              #\n",
    "# Arguments:                                                                   #\n",
    "#   A        Hermitian sage or numpy matrix     adjacency matrix/Hamiltonian   #\n",
    "#   i        integer                            row number                     #\n",
    "#   j        integer                            column number                  #\n",
    "#                                                                              #\n",
    "# Returns: real part of U(t) at index [i][j]                                   #\n",
    "#                                                                              #\n",
    "################################################################################\n",
    "\n",
    "def transfer_at_time_r(A,t,i,j):\n",
    "    U = transfer(A,t)\n",
    "    return U[i][j].real()\n",
    "\n",
    "################################################################################\n",
    "# Function: transfer_at_time_i                                                 #\n",
    "#                                                                              #\n",
    "# Purpose: find imaginary part of transfer matrix at specific time and index   #\n",
    "#                                                                              #\n",
    "# Arguments:                                                                   #\n",
    "#   A        Hermitian sage or numpy matrix     adjacency matrix/Hamiltonian   #\n",
    "#   i        integer                            row number                     #\n",
    "#   j        integer                            column number                  #\n",
    "#                                                                              #\n",
    "# Returns: imaginary part of U(t) at index [i][j]                              #\n",
    "#                                                                              #\n",
    "################################################################################\n",
    "\n",
    "def transfer_at_time_i(A,t,i,j):\n",
    "    U = transfer(A,t)\n",
    "    return U[i][j].imag()"
   ]
  },
  {
   "cell_type": "code",
   "execution_count": 51,
   "metadata": {},
   "outputs": [
    {
     "data": {
      "text/plain": [
       "matrix([[ 0.+0.j, -0.-1.j,  0.+0.j,  0.+1.j],\n",
       "        [ 0.+1.j,  0.+0.j, -0.-1.j,  0.+0.j],\n",
       "        [ 0.+0.j,  0.+1.j,  0.+0.j, -0.-1.j],\n",
       "        [-0.-1.j,  0.+0.j,  0.+1.j,  0.+0.j]])"
      ]
     },
     "execution_count": 51,
     "metadata": {},
     "output_type": "execute_result"
    }
   ],
   "source": [
    "DC4 = np.matrix([[0,-1j,0,1j],[1j, 0, -1j, 0],[0,1j,0,-1j],[-1j,0,1j,0]]); DC4"
   ]
  },
  {
   "cell_type": "code",
   "execution_count": 68,
   "metadata": {},
   "outputs": [
    {
     "data": {
      "image/png": "[encoded data removed]",
      "text/plain": [
       "Graphics object consisting of 1 graphics primitive"
      ]
     },
     "execution_count": 68,
     "metadata": {},
     "output_type": "execute_result"
    }
   ],
   "source": [
    "# Plots real part of U(t) for matrix DC4 from time 0 to 3pi at entry [0][0]\n",
    "plot(transfer_at_time_r(DC4,x,0,0),0,3*np.pi)"
   ]
  },
  {
   "cell_type": "code",
   "execution_count": 69,
   "metadata": {},
   "outputs": [
    {
     "data": {
      "image/png": "[encoded data removed]",
      "text/plain": [
       "Graphics object consisting of 1 graphics primitive"
      ]
     },
     "execution_count": 69,
     "metadata": {},
     "output_type": "execute_result"
    }
   ],
   "source": [
    "# Plots real part of U(t) for matrix DC4 from time 0 to 3pi at entry [2][0]\n",
    "plot(transfer_at_time_r(DC4,x,2,0),0,3*np.pi)"
   ]
  },
  {
   "cell_type": "code",
   "execution_count": null,
   "metadata": {},
   "outputs": [],
   "source": []
  }
 ],
 "metadata": {
  "kernelspec": {
   "display_name": "SageMath 9.3",
   "language": "sage",
   "name": "sagemath-9.3"
  }
 },
 "nbformat": 4,
 "nbformat_minor": 4
}
