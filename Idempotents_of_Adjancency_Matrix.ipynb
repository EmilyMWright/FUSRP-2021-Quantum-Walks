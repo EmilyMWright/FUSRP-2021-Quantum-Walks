{
 "cells": [
  {
   "cell_type": "code",
   "execution_count": 126,
   "metadata": {},
   "outputs": [],
   "source": [
    "import numpy as np\n",
    "from numpy import linalg\n",
    "\n",
    "# Function accepts an adjacency matrix of a graph and returns its idempotents\n",
    "def idempotents_2(A):\n",
    "    if not A.is_hermitian():\n",
    "        print(\"A is not Hermitian\")\n",
    "        return []\n",
    "    # Extracts eigenvalues and eigenvectors\n",
    "    W,V = linalg.eigh(A)\n",
    "    # Converts eigenvectors into orthonormal basis\n",
    "    Q, R = linalg.qr(V) \n",
    "    Q = matrix(Q)\n",
    "    # Number of eigenvectors\n",
    "    n = A.nrows()\n",
    "    idems = []\n",
    "    evals = []\n",
    "    i = 0\n",
    "    j = 0\n",
    "    while i < n:\n",
    "        # Zero matrix\n",
    "        E = matrix(n, n, 0)\n",
    "        # Checks if eigenvectors share an eigenvalue\n",
    "        while j < n and abs(W[i] - W[j]) < 0.01:\n",
    "            # Converts eigenvector into column vecror\n",
    "            v = Q.column(j).column()\n",
    "            # updates idempotent\n",
    "            E = E + v*v.transpose();\n",
    "            j = j + 1\n",
    "        E = E.round(5)\n",
    "        idems.append(E)\n",
    "        evals.append(W[i])\n",
    "        i = j\n",
    "    return idems, evals"
   ]
  },
  {
   "cell_type": "code",
   "execution_count": 127,
   "metadata": {},
   "outputs": [
    {
     "data": {
      "text/plain": [
       "([\n",
       "[ 0.16667 -0.16667 -0.16667  0.16667  0.16667 -0.16667]\n",
       "[-0.16667  0.16667  0.16667 -0.16667 -0.16667  0.16667]\n",
       "[-0.16667  0.16667  0.16667 -0.16667 -0.16667  0.16667]\n",
       "[ 0.16667 -0.16667 -0.16667  0.16667  0.16667 -0.16667]\n",
       "[ 0.16667 -0.16667 -0.16667  0.16667  0.16667 -0.16667]\n",
       "[-0.16667  0.16667  0.16667 -0.16667 -0.16667  0.16667],\n",
       "\n",
       "[ 0.33333  0.33333 -0.16667 -0.16667 -0.16667 -0.16667]\n",
       "[ 0.33333  0.33333 -0.16667 -0.16667 -0.16667 -0.16667]\n",
       "[-0.16667 -0.16667  0.33333  0.33333 -0.16667 -0.16667]\n",
       "[-0.16667 -0.16667  0.33333  0.33333 -0.16667 -0.16667]\n",
       "[-0.16667 -0.16667 -0.16667 -0.16667  0.33333  0.33333]\n",
       "[-0.16667 -0.16667 -0.16667 -0.16667  0.33333  0.33333],\n",
       "\n",
       "[ 0.33333 -0.33333  0.16667 -0.16667 -0.16667  0.16667]\n",
       "[-0.33333  0.33333 -0.16667  0.16667  0.16667 -0.16667]\n",
       "[ 0.16667 -0.16667  0.33333 -0.33333  0.16667 -0.16667]\n",
       "[-0.16667  0.16667 -0.33333  0.33333 -0.16667  0.16667]\n",
       "[-0.16667  0.16667  0.16667 -0.16667  0.33333 -0.33333]\n",
       "[ 0.16667 -0.16667 -0.16667  0.16667 -0.33333  0.33333],\n",
       "\n",
       "[0.16667 0.16667 0.16667 0.16667 0.16667 0.16667]\n",
       "[0.16667 0.16667 0.16667 0.16667 0.16667 0.16667]\n",
       "[0.16667 0.16667 0.16667 0.16667 0.16667 0.16667]\n",
       "[0.16667 0.16667 0.16667 0.16667 0.16667 0.16667]\n",
       "[0.16667 0.16667 0.16667 0.16667 0.16667 0.16667]\n",
       "[0.16667 0.16667 0.16667 0.16667 0.16667 0.16667]\n",
       "],\n",
       " [-2.0000000000000004,\n",
       "  -1.0000000000000004,\n",
       "  0.9999999999999998,\n",
       "  2.0000000000000004])"
      ]
     },
     "execution_count": 127,
     "metadata": {},
     "output_type": "execute_result"
    }
   ],
   "source": [
    "# Example usage\n",
    "AC6 = matrix([[0,0,1,0,0,1],[0,0,0,1,1,0],[1,0,0,0,1,0],[0,1,0,0,0,1],[0,1,1,0,0,0],[1,0,0,1,0,0]])\n",
    "idempotents_2(AC6)"
   ]
  },
  {
   "cell_type": "code",
   "execution_count": 136,
   "metadata": {},
   "outputs": [],
   "source": [
    "def transfer(A, t, k):\n",
    "    if not A.is_hermitian():\n",
    "        print(\"A is not Hermitian\")\n",
    "        return []\n",
    "    idems, evals = idempotents_2(A)\n",
    "    n = A.nrows()\n",
    "    U = matrix(n, n, 0)\n",
    "    for i in range(len(idems)):\n",
    "        U = U + exp(I*t*evals[i])*idems[i]\n",
    "    return U.round(k)      "
   ]
  },
  {
   "cell_type": "code",
   "execution_count": 140,
   "metadata": {},
   "outputs": [
    {
     "data": {
      "text/plain": [
       "[-0.33332      0.0      0.0  0.66668  0.66668      0.0]\n",
       "[     0.0 -0.33332  0.66668      0.0      0.0  0.66668]\n",
       "[     0.0  0.66668 -0.33332      0.0      0.0  0.66668]\n",
       "[ 0.66668      0.0      0.0 -0.33332  0.66668      0.0]\n",
       "[ 0.66668      0.0      0.0  0.66668 -0.33332      0.0]\n",
       "[     0.0  0.66668  0.66668      0.0      0.0 -0.33332]"
      ]
     },
     "execution_count": 140,
     "metadata": {},
     "output_type": "execute_result"
    }
   ],
   "source": [
    "transfer(AC6,np.pi, 5)"
   ]
  },
  {
   "cell_type": "code",
   "execution_count": 138,
   "metadata": {},
   "outputs": [
    {
     "data": {
      "text/plain": [
       "[0 1 0 0 1]\n",
       "[1 0 1 0 0]\n",
       "[0 1 0 1 0]\n",
       "[0 0 1 0 1]\n",
       "[1 0 0 1 0]"
      ]
     },
     "execution_count": 138,
     "metadata": {},
     "output_type": "execute_result"
    }
   ],
   "source": [
    "AC5 = matrix([[0,1,0,0,1],[1,0,1,0,0],[0,1,0,1,0],[0,0,1,0,1],[1,0,0,1,0]]); AC5"
   ]
  },
  {
   "cell_type": "code",
   "execution_count": 141,
   "metadata": {},
   "outputs": [
    {
     "data": {
      "text/plain": [
       "[    0.2 + 0.74563*I 0.03794 - 0.18641*I 0.36206 - 0.18641*I 0.36206 - 0.18641*I 0.03794 - 0.18641*I]\n",
       "[0.03794 - 0.18641*I     0.2 + 0.74563*I 0.03794 - 0.18641*I 0.36206 - 0.18641*I 0.36206 - 0.18641*I]\n",
       "[0.36206 - 0.18641*I 0.03794 - 0.18641*I     0.2 + 0.74563*I 0.03794 - 0.18641*I 0.36206 - 0.18641*I]\n",
       "[0.36206 - 0.18641*I 0.36206 - 0.18641*I 0.03794 - 0.18641*I     0.2 + 0.74563*I 0.03794 - 0.18641*I]\n",
       "[0.03794 - 0.18641*I 0.36206 - 0.18641*I 0.36206 - 0.18641*I 0.03794 - 0.18641*I     0.2 + 0.74563*I]"
      ]
     },
     "execution_count": 141,
     "metadata": {},
     "output_type": "execute_result"
    }
   ],
   "source": [
    "transfer(AC5,np.pi, 5)"
   ]
  },
  {
   "cell_type": "code",
   "execution_count": null,
   "metadata": {},
   "outputs": [],
   "source": [
    "AC4 = matrix"
   ]
  }
 ],
 "metadata": {
  "kernelspec": {
   "display_name": "SageMath 9.3",
   "language": "sage",
   "name": "sagemath-9.3"
  },
  "language_info": {
   "codemirror_mode": {
    "name": "ipython",
    "version": 3
   },
   "file_extension": ".py",
   "mimetype": "text/x-python",
   "name": "python",
   "nbconvert_exporter": "python",
   "pygments_lexer": "ipython3",
   "version": "3.9.2"
  }
 },
 "nbformat": 4,
 "nbformat_minor": 4
}
