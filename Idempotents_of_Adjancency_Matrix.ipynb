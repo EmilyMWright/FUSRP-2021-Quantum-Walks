{
 "cells": [
  {
   "cell_type": "code",
   "execution_count": 5,
   "metadata": {},
   "outputs": [],
   "source": [
    "# Function accepts an adjacency matrix of a graph and returns its idempotents\n",
    "def idempotents(A):\n",
    "    if not A.is_hermitian():\n",
    "        print(\"A is not Hermitian\")\n",
    "        return []\n",
    "    # Puts A into Jordan form\n",
    "    J, P = A.jordan_form(transformation=True) # P columns are eigenvectors, J diagonal entries are eigenvalues\n",
    "    P = P.transpose()\n",
    "    # Converts eigenvectors into orthonormal basis\n",
    "    V = P.gram_schmidt()[0]\n",
    "    vs = matrix([v.normalized() for v in V.rows()])\n",
    "    # Number of eigenvectors\n",
    "    n = A.nrows()\n",
    "    idems = []\n",
    "    i = 0\n",
    "    j = 0\n",
    "    while i < n:\n",
    "        # Zero matrix\n",
    "        E = matrix(n, n, 0)\n",
    "        # Checks if eigenvectors share an eigenvalue\n",
    "        while j < n and J[i][i] == J[j][j]:\n",
    "            # Converts eigenvector into column vecror\n",
    "            v = vs.row(j).column()\n",
    "            # updates idempotent\n",
    "            E = E + v*v.transpose();\n",
    "            j = j + 1\n",
    "        idems.append(E)\n",
    "        i = j\n",
    "    return idems"
   ]
  },
  {
   "cell_type": "code",
   "execution_count": 6,
   "metadata": {},
   "outputs": [
    {
     "data": {
      "text/plain": [
       "[\n",
       "[1/6 1/6 1/6 1/6 1/6 1/6]  [ 1/6 -1/6 -1/6  1/6  1/6 -1/6]\n",
       "[1/6 1/6 1/6 1/6 1/6 1/6]  [-1/6  1/6  1/6 -1/6 -1/6  1/6]\n",
       "[1/6 1/6 1/6 1/6 1/6 1/6]  [-1/6  1/6  1/6 -1/6 -1/6  1/6]\n",
       "[1/6 1/6 1/6 1/6 1/6 1/6]  [ 1/6 -1/6 -1/6  1/6  1/6 -1/6]\n",
       "[1/6 1/6 1/6 1/6 1/6 1/6]  [ 1/6 -1/6 -1/6  1/6  1/6 -1/6]\n",
       "[1/6 1/6 1/6 1/6 1/6 1/6], [-1/6  1/6  1/6 -1/6 -1/6  1/6],\n",
       "\n",
       "[ 1/3 -1/3  1/6 -1/6 -1/6  1/6]  [ 1/3  1/3 -1/6 -1/6 -1/6 -1/6]\n",
       "[-1/3  1/3 -1/6  1/6  1/6 -1/6]  [ 1/3  1/3 -1/6 -1/6 -1/6 -1/6]\n",
       "[ 1/6 -1/6  1/3 -1/3  1/6 -1/6]  [-1/6 -1/6  1/3  1/3 -1/6 -1/6]\n",
       "[-1/6  1/6 -1/3  1/3 -1/6  1/6]  [-1/6 -1/6  1/3  1/3 -1/6 -1/6]\n",
       "[-1/6  1/6  1/6 -1/6  1/3 -1/3]  [-1/6 -1/6 -1/6 -1/6  1/3  1/3]\n",
       "[ 1/6 -1/6 -1/6  1/6 -1/3  1/3], [-1/6 -1/6 -1/6 -1/6  1/3  1/3]\n",
       "]"
      ]
     },
     "execution_count": 6,
     "metadata": {},
     "output_type": "execute_result"
    }
   ],
   "source": [
    "# Example usage\n",
    "AC6 = matrix([[0,0,1,0,0,1],[0,0,0,1,1,0],[1,0,0,0,1,0],[0,1,0,0,0,1],[0,1,1,0,0,0],[1,0,0,1,0,0]])\n",
    "E = idempotents(AC6); E"
   ]
  },
  {
   "cell_type": "code",
   "execution_count": null,
   "metadata": {},
   "outputs": [],
   "source": []
  }
 ],
 "metadata": {
  "kernelspec": {
   "display_name": "SageMath 9.3",
   "language": "sage",
   "name": "sagemath-9.3"
  },
  "language_info": {
   "codemirror_mode": {
    "name": "ipython",
    "version": 3
   },
   "file_extension": ".py",
   "mimetype": "text/x-python",
   "name": "python",
   "nbconvert_exporter": "python",
   "pygments_lexer": "ipython3",
   "version": "3.9.2"
  }
 },
 "nbformat": 4,
 "nbformat_minor": 4
}
