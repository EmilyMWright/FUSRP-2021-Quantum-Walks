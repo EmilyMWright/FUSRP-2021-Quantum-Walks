{
 "cells": [
  {
   "cell_type": "markdown",
   "metadata": {},
   "source": [
    "# Infinite Families for the Godsil-Lato Graph on 8 Vertices\n",
    "\n",
    "Is there an infinite family that generalizes the Godsil-Lato graph on 8 vertices, whose adjacency matrix is $I_2 \\otimes H(C_4) + \\sigma_y \\otimes J_4$?"
   ]
  },
  {
   "cell_type": "code",
   "execution_count": 1,
   "metadata": {},
   "outputs": [],
   "source": [
    "# %load adj_functions.sage\n",
    "import numpy as np\n",
    "from numpy import linalg\n",
    "\n",
    "################################################################################\n",
    "# Function: idempotents                                                        #\n",
    "#                                                                              #\n",
    "# Purpose: find principal idempotents of a Hermitian matrix                    #\n",
    "#                                                                              #\n",
    "# Arguments:                                                                   #\n",
    "#   A        Hermitian sage or numpy matrix     adjacency matrix/Hamiltonian   #\n",
    "#                                                                              #\n",
    "# Returns: principal idempotents, eigenvalues                                  #\n",
    "#                                                                              #\n",
    "################################################################################\n",
    "\n",
    "def idempotents(A):\n",
    "    if not matrix(A).is_hermitian():\n",
    "        print(\"A is not Hermitian\")\n",
    "        return []\n",
    "    # Extracts eigenvalues and eigenvectors\n",
    "    W,V = linalg.eigh(A)\n",
    "    # Converts eigenvectors into orthonormal basis\n",
    "    Q, R = linalg.qr(V) \n",
    "    Q = matrix(Q)\n",
    "    # Number of eigenvectors\n",
    "    A = np.matrix(A)\n",
    "    n = len(A)\n",
    "    idems = []\n",
    "    evals = []\n",
    "    i = 0\n",
    "    j = 0\n",
    "    while i < n:\n",
    "        # Zero matrix\n",
    "        E = matrix(n, n, 0)\n",
    "        # Checks if eigenvectors share an eigenvalue\n",
    "        while j < n and abs(W[i] - W[j]) < 0.01:\n",
    "            # Converts eigenvector into column vecror\n",
    "            v = Q.column(j).column()\n",
    "            # updates idempotent\n",
    "            E = E + v*v.conjugate_transpose();\n",
    "            j = j + 1\n",
    "        E = E\n",
    "        idems.append(E)\n",
    "        evals.append(W[i].round(3))\n",
    "        i = j\n",
    "    return idems, evals\n",
    "\n",
    "################################################################################\n",
    "# Function: transfer                                                           #\n",
    "#                                                                              #\n",
    "# Purpose: return transfer matrix U(t) given adjacency matrix/Hamiltonian      #\n",
    "#                                                                              #\n",
    "# Arguments:                                                                   #\n",
    "#   A        Hermitian sage or numpy matrix     adjacency matrix/Hamiltonian   #\n",
    "#   t        float                              time                           #\n",
    "#   k        integer                            rounding accuracy              #\n",
    "#                                                                              #\n",
    "# Returns: transfer U(t)                                                       #\n",
    "#                                                                              #\n",
    "################################################################################\n",
    "\n",
    "def transfer(A, t):\n",
    "    if not matrix(A).is_hermitian():\n",
    "        print(\"A is not Hermitian\")\n",
    "        return []\n",
    "    idems, evals = idempotents(A)\n",
    "    # Number of eigenvectors\n",
    "    A = np.matrix(A)\n",
    "    n = len(A)\n",
    "    # Zero matrix\n",
    "    U = matrix(n, n, 0)\n",
    "    for i in range(len(idems)):\n",
    "        # Updates transder matrix\n",
    "        U = U + exp(-I*t*evals[i])*idems[i]\n",
    "    return U"
   ]
  },
  {
   "cell_type": "markdown",
   "metadata": {},
   "source": [
    "# Base case"
   ]
  },
  {
   "cell_type": "code",
   "execution_count": 2,
   "metadata": {},
   "outputs": [
    {
     "data": {
      "text/plain": [
       "[   0.0 -1.0*I    0.0  1.0*I -1.0*I -1.0*I -1.0*I -1.0*I]\n",
       "[ 1.0*I    0.0 -1.0*I    0.0 -1.0*I -1.0*I -1.0*I -1.0*I]\n",
       "[   0.0  1.0*I    0.0 -1.0*I -1.0*I -1.0*I -1.0*I -1.0*I]\n",
       "[-1.0*I    0.0  1.0*I    0.0 -1.0*I -1.0*I -1.0*I -1.0*I]\n",
       "[ 1.0*I  1.0*I  1.0*I  1.0*I    0.0 -1.0*I    0.0  1.0*I]\n",
       "[ 1.0*I  1.0*I  1.0*I  1.0*I  1.0*I    0.0 -1.0*I    0.0]\n",
       "[ 1.0*I  1.0*I  1.0*I  1.0*I    0.0  1.0*I    0.0 -1.0*I]\n",
       "[ 1.0*I  1.0*I  1.0*I  1.0*I -1.0*I    0.0  1.0*I    0.0]"
      ]
     },
     "execution_count": 2,
     "metadata": {},
     "output_type": "execute_result"
    }
   ],
   "source": [
    "I2 = matrix([[1,0],[0,1]])\n",
    "HC4 = np.matrix([[0,-1j,0,1j],[1j,0,-1j,0],[0,1j,0,-1j],[-1j,0,1j,0]]); HC4 = matrix(HC4)\n",
    "SY = np.matrix([[0,-1j],[1j,0]]); SY = matrix(SY)\n",
    "J4 = matrix([[1,1,1,1],[1,1,1,1],[1,1,1,1],[1,1,1,1]])\n",
    "A2 =  I2.tensor_product(HC4) + SY.tensor_product(J4); A2"
   ]
  },
  {
   "cell_type": "code",
   "execution_count": 3,
   "metadata": {},
   "outputs": [
    {
     "data": {
      "text/plain": [
       "[0.0 0.0 1.0 0.0 0.0 0.0 0.0 0.0]\n",
       "[0.0 0.0 0.0 1.0 0.0 0.0 0.0 0.0]\n",
       "[1.0 0.0 0.0 0.0 0.0 0.0 0.0 0.0]\n",
       "[0.0 1.0 0.0 0.0 0.0 0.0 0.0 0.0]\n",
       "[0.0 0.0 0.0 0.0 0.0 0.0 1.0 0.0]\n",
       "[0.0 0.0 0.0 0.0 0.0 0.0 0.0 1.0]\n",
       "[0.0 0.0 0.0 0.0 1.0 0.0 0.0 0.0]\n",
       "[0.0 0.0 0.0 0.0 0.0 1.0 0.0 0.0]"
      ]
     },
     "execution_count": 3,
     "metadata": {},
     "output_type": "execute_result"
    }
   ],
   "source": [
    "transfer(A2, np.pi/2).round(5)"
   ]
  },
  {
   "cell_type": "code",
   "execution_count": 4,
   "metadata": {},
   "outputs": [
    {
     "name": "stdout",
     "output_type": "stream",
     "text": [
      "Idempotent for -4\n",
      "[   0.125    0.125    0.125    0.125  0.125*I  0.125*I  0.125*I  0.125*I]\n",
      "[   0.125    0.125    0.125    0.125  0.125*I  0.125*I  0.125*I  0.125*I]\n",
      "[   0.125    0.125    0.125    0.125  0.125*I  0.125*I  0.125*I  0.125*I]\n",
      "[   0.125    0.125    0.125    0.125  0.125*I  0.125*I  0.125*I  0.125*I]\n",
      "[-0.125*I -0.125*I -0.125*I -0.125*I    0.125    0.125    0.125    0.125]\n",
      "[-0.125*I -0.125*I -0.125*I -0.125*I    0.125    0.125    0.125    0.125]\n",
      "[-0.125*I -0.125*I -0.125*I -0.125*I    0.125    0.125    0.125    0.125]\n",
      "[-0.125*I -0.125*I -0.125*I -0.125*I    0.125    0.125    0.125    0.125]\n",
      "Idempotent for -2\n",
      "[   0.25  0.25*I   -0.25 -0.25*I     0.0     0.0     0.0     0.0]\n",
      "[-0.25*I    0.25  0.25*I   -0.25     0.0     0.0     0.0     0.0]\n",
      "[  -0.25 -0.25*I    0.25  0.25*I     0.0     0.0     0.0     0.0]\n",
      "[ 0.25*I   -0.25 -0.25*I    0.25     0.0     0.0     0.0     0.0]\n",
      "[    0.0     0.0     0.0     0.0    0.25  0.25*I   -0.25 -0.25*I]\n",
      "[    0.0     0.0     0.0     0.0 -0.25*I    0.25  0.25*I   -0.25]\n",
      "[    0.0     0.0     0.0     0.0   -0.25 -0.25*I    0.25  0.25*I]\n",
      "[    0.0     0.0     0.0     0.0  0.25*I   -0.25 -0.25*I    0.25]\n",
      "Idempotent for 0\n",
      "[ 0.25 -0.25  0.25 -0.25   0.0   0.0   0.0   0.0]\n",
      "[-0.25  0.25 -0.25  0.25   0.0   0.0   0.0   0.0]\n",
      "[ 0.25 -0.25  0.25 -0.25   0.0   0.0   0.0   0.0]\n",
      "[-0.25  0.25 -0.25  0.25   0.0   0.0   0.0   0.0]\n",
      "[  0.0   0.0   0.0   0.0  0.25 -0.25  0.25 -0.25]\n",
      "[  0.0   0.0   0.0   0.0 -0.25  0.25 -0.25  0.25]\n",
      "[  0.0   0.0   0.0   0.0  0.25 -0.25  0.25 -0.25]\n",
      "[  0.0   0.0   0.0   0.0 -0.25  0.25 -0.25  0.25]\n",
      "Idempotent for 2\n",
      "[   0.25 -0.25*I   -0.25  0.25*I     0.0     0.0     0.0     0.0]\n",
      "[ 0.25*I    0.25 -0.25*I   -0.25     0.0     0.0     0.0     0.0]\n",
      "[  -0.25  0.25*I    0.25 -0.25*I     0.0     0.0     0.0     0.0]\n",
      "[-0.25*I   -0.25  0.25*I    0.25     0.0     0.0     0.0     0.0]\n",
      "[    0.0     0.0     0.0     0.0    0.25 -0.25*I   -0.25  0.25*I]\n",
      "[    0.0     0.0     0.0     0.0  0.25*I    0.25 -0.25*I   -0.25]\n",
      "[    0.0     0.0     0.0     0.0   -0.25  0.25*I    0.25 -0.25*I]\n",
      "[    0.0     0.0     0.0     0.0 -0.25*I   -0.25  0.25*I    0.25]\n",
      "Idempotent for 4\n",
      "[   0.125    0.125    0.125    0.125 -0.125*I -0.125*I -0.125*I -0.125*I]\n",
      "[   0.125    0.125    0.125    0.125 -0.125*I -0.125*I -0.125*I -0.125*I]\n",
      "[   0.125    0.125    0.125    0.125 -0.125*I -0.125*I -0.125*I -0.125*I]\n",
      "[   0.125    0.125    0.125    0.125 -0.125*I -0.125*I -0.125*I -0.125*I]\n",
      "[ 0.125*I  0.125*I  0.125*I  0.125*I    0.125    0.125    0.125    0.125]\n",
      "[ 0.125*I  0.125*I  0.125*I  0.125*I    0.125    0.125    0.125    0.125]\n",
      "[ 0.125*I  0.125*I  0.125*I  0.125*I    0.125    0.125    0.125    0.125]\n",
      "[ 0.125*I  0.125*I  0.125*I  0.125*I    0.125    0.125    0.125    0.125]\n"
     ]
    }
   ],
   "source": [
    "E, eVal = idempotents(A2)\n",
    "\n",
    "for i in range(len(eVal)):\n",
    "    print(\"Idempotent for\", int(eVal[i]))\n",
    "    print(E[i].round(5))"
   ]
  },
  {
   "cell_type": "markdown",
   "metadata": {},
   "source": [
    "# Case which gives pairs of PST but not MST\n",
    "\n",
    "Adjacency matrix is $I_n \\otimes H(C_4) + \\sigma_y \\otimes J_{2n}$ for some even positive integer $n$."
   ]
  },
  {
   "cell_type": "code",
   "execution_count": 5,
   "metadata": {},
   "outputs": [],
   "source": [
    "def GL_PST_EX(n):\n",
    "    HC4 = np.matrix([[0,-1j,0,1j],[1j,0,-1j,0],[0,1j,0,-1j],[-1j,0,1j,0]]); HC4 = matrix(HC4)\n",
    "    SY = np.matrix([[0,-1j],[1j,0]]); SY = matrix(SY)\n",
    "    Id = identity_matrix(n)\n",
    "    J = ones_matrix(2*n,2*n)\n",
    "    return Id.tensor_product(HC4) + SY.tensor_product(J)"
   ]
  },
  {
   "cell_type": "code",
   "execution_count": 6,
   "metadata": {},
   "outputs": [
    {
     "data": {
      "text/plain": [
       "[0.0 0.0 1.0 0.0 0.0 0.0 0.0 0.0 0.0 0.0 0.0 0.0 0.0 0.0 0.0 0.0]\n",
       "[0.0 0.0 0.0 1.0 0.0 0.0 0.0 0.0 0.0 0.0 0.0 0.0 0.0 0.0 0.0 0.0]\n",
       "[1.0 0.0 0.0 0.0 0.0 0.0 0.0 0.0 0.0 0.0 0.0 0.0 0.0 0.0 0.0 0.0]\n",
       "[0.0 1.0 0.0 0.0 0.0 0.0 0.0 0.0 0.0 0.0 0.0 0.0 0.0 0.0 0.0 0.0]\n",
       "[0.0 0.0 0.0 0.0 0.0 0.0 1.0 0.0 0.0 0.0 0.0 0.0 0.0 0.0 0.0 0.0]\n",
       "[0.0 0.0 0.0 0.0 0.0 0.0 0.0 1.0 0.0 0.0 0.0 0.0 0.0 0.0 0.0 0.0]\n",
       "[0.0 0.0 0.0 0.0 1.0 0.0 0.0 0.0 0.0 0.0 0.0 0.0 0.0 0.0 0.0 0.0]\n",
       "[0.0 0.0 0.0 0.0 0.0 1.0 0.0 0.0 0.0 0.0 0.0 0.0 0.0 0.0 0.0 0.0]\n",
       "[0.0 0.0 0.0 0.0 0.0 0.0 0.0 0.0 0.0 0.0 1.0 0.0 0.0 0.0 0.0 0.0]\n",
       "[0.0 0.0 0.0 0.0 0.0 0.0 0.0 0.0 0.0 0.0 0.0 1.0 0.0 0.0 0.0 0.0]\n",
       "[0.0 0.0 0.0 0.0 0.0 0.0 0.0 0.0 1.0 0.0 0.0 0.0 0.0 0.0 0.0 0.0]\n",
       "[0.0 0.0 0.0 0.0 0.0 0.0 0.0 0.0 0.0 1.0 0.0 0.0 0.0 0.0 0.0 0.0]\n",
       "[0.0 0.0 0.0 0.0 0.0 0.0 0.0 0.0 0.0 0.0 0.0 0.0 0.0 0.0 1.0 0.0]\n",
       "[0.0 0.0 0.0 0.0 0.0 0.0 0.0 0.0 0.0 0.0 0.0 0.0 0.0 0.0 0.0 1.0]\n",
       "[0.0 0.0 0.0 0.0 0.0 0.0 0.0 0.0 0.0 0.0 0.0 0.0 1.0 0.0 0.0 0.0]\n",
       "[0.0 0.0 0.0 0.0 0.0 0.0 0.0 0.0 0.0 0.0 0.0 0.0 0.0 1.0 0.0 0.0]"
      ]
     },
     "execution_count": 6,
     "metadata": {},
     "output_type": "execute_result"
    }
   ],
   "source": [
    "n = 4\n",
    "A = GL_PST_EX(n)\n",
    "U = transfer(A, np.pi/2).round(5)\n",
    "U"
   ]
  },
  {
   "cell_type": "code",
   "execution_count": 7,
   "metadata": {},
   "outputs": [
    {
     "name": "stdout",
     "output_type": "stream",
     "text": [
      "-8.0\n",
      "-2.0\n",
      "-0.0\n",
      "2.0\n",
      "8.0\n"
     ]
    }
   ],
   "source": [
    "E, eVal = idempotents(A)\n",
    "for val in eVal:\n",
    "    print(val.round(5))"
   ]
  },
  {
   "cell_type": "code",
   "execution_count": null,
   "metadata": {},
   "outputs": [],
   "source": []
  }
 ],
 "metadata": {
  "kernelspec": {
   "display_name": "SageMath 9.3",
   "language": "sage",
   "name": "sagemath-9.3"
  },
  "language_info": {
   "codemirror_mode": {
    "name": "ipython",
    "version": 3
   },
   "file_extension": ".py",
   "mimetype": "text/x-python",
   "name": "python",
   "nbconvert_exporter": "python",
   "pygments_lexer": "ipython3",
   "version": "3.9.2"
  }
 },
 "nbformat": 4,
 "nbformat_minor": 4
}
